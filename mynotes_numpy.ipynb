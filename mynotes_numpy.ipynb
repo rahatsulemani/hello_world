{
 "cells": [
  {
   "cell_type": "code",
   "execution_count": 1,
   "metadata": {},
   "outputs": [
    {
     "name": "stdout",
     "output_type": "stream",
     "text": [
      "[1 2 3]\n",
      "[[1 2 3]\n",
      " [4 5 6]]\n"
     ]
    }
   ],
   "source": [
    "import numpy as np\n",
    "print(np.array([1,2,3])) #one dimensional aaray np.array([list])\n",
    "print(np.array([[1,2,3],[4,5,6]])) #2 dimensional array"
   ]
  },
  {
   "cell_type": "markdown",
   "metadata": {},
   "source": [
    "# basic attributes "
   ]
  },
  {
   "cell_type": "code",
   "execution_count": 2,
   "metadata": {},
   "outputs": [
    {
     "name": "stdout",
     "output_type": "stream",
     "text": [
      "2\n",
      "int32\n",
      "(2, 3)\n",
      "6\n",
      "[[1 2]\n",
      " [3 4]\n",
      " [5 6]]\n",
      "1\n",
      "6\n",
      "21\n",
      "[5 7 9]\n",
      "[ 6 15]\n",
      "[[1.         1.41421356 1.73205081]\n",
      " [2.         2.23606798 2.44948974]]\n",
      "1.707825127659933\n",
      "3.5\n",
      "[[False False  True]\n",
      " [ True  True  True]]\n",
      "[[  2.71828183   7.3890561   20.08553692]\n",
      " [ 54.59815003 148.4131591  403.42879349]]\n"
     ]
    },
    {
     "data": {
      "text/plain": [
       "array([[1, 4],\n",
       "       [2, 5],\n",
       "       [3, 6]])"
      ]
     },
     "execution_count": 2,
     "metadata": {},
     "output_type": "execute_result"
    }
   ],
   "source": [
    "#array_name.ndim give dimension check out no paranthesis\n",
    "aray=np.array([[1,2,3],[4,5,6]])#all list shoul have same length\n",
    "print(aray.ndim) \n",
    "print(aray.dtype)\n",
    "type(aray)\n",
    "print(aray.shape)\n",
    "print(aray.size) #total no. of elements\n",
    "b=aray.reshape(3,2) #reshape..changing nom of rows and columns\n",
    "print(b)\n",
    "#indexing\n",
    "print(aray[0,0])\n",
    "print(b.max(\n",
    ")) #maximum\n",
    "print(b.sum()) #add\n",
    "print(aray.sum(axis=0))\n",
    "print(aray.sum(axis=1))\n",
    "print(np.sqrt(aray)) #square root..carefully obsrve\n",
    "print(np.std(aray)) #standard deviation\n",
    "print(np.mean(aray))\n",
    "print(aray>2) #since it has given boolean lsit,we can acces other elemnts for true or false case fr operation #not happens\n",
    "#in list onlu in array\n",
    "print(np.exp(aray))\n",
    "aray.T #TRANSPOSE OF ARAY MATRIX"
   ]
  },
  {
   "cell_type": "code",
   "execution_count": 3,
   "metadata": {},
   "outputs": [
    {
     "name": "stdout",
     "output_type": "stream",
     "text": [
      "[1.  1.6 2.2 2.8 3.4 4. ]\n"
     ]
    }
   ],
   "source": [
    "a=np.linspace(1,4,6) #placing 6 numbers between 1-4\n",
    "print(a)"
   ]
  },
  {
   "cell_type": "code",
   "execution_count": 23,
   "metadata": {},
   "outputs": [
    {
     "name": "stdout",
     "output_type": "stream",
     "text": [
      "7\n",
      "14\n",
      "7\n",
      "7\n",
      "7\n"
     ]
    }
   ],
   "source": [
    "c=[2,5,7]\n",
    "print(max(c))#maximum in list\n",
    "print(sum(c))\n",
    "#addition of two list gives cancatenatin while array gives addition elementwise\n",
    "c1=np.array([2,4,7])\n",
    "print(np.max(c1))\n",
    "print(c1.max())\n",
    "print(max(c)) #same with sum min al=nd others too\n",
    "\n"
   ]
  },
  {
   "cell_type": "markdown",
   "metadata": {},
   "source": [
    "# copy method "
   ]
  },
  {
   "cell_type": "code",
   "execution_count": 24,
   "metadata": {},
   "outputs": [
    {
     "name": "stdout",
     "output_type": "stream",
     "text": [
      "[[2 3]\n",
      " [6 7]]\n",
      "2\n",
      "77\n",
      "77\n"
     ]
    }
   ],
   "source": [
    "import numpy as np\n",
    "abc= np.array([[1,2,3,4], [5,6,7,8], [9,10,11,12]])\n",
    "bcd= abc[:2, 1:3]\n",
    "print(bcd)\n",
    "# A slice of an array is a view into the same data, so modifying it\n",
    "# will modify the original array.\n",
    "print(abc[0, 1])   # Prints \"2\"\n",
    "bcd[0, 0] = 77     # b[0, 0] is the same piece of data as a[0, 1]\n",
    "print(abc[0, 1])   # Prints \"77\"\n",
    "#for avoiding this,copy method works\n",
    "bcd_copy=abc[:2,1:3].copy()\n",
    "bcd_copy[0,0]=88 #now abc wont change\n",
    "print(abc[0,1])\n",
    "\n"
   ]
  },
  {
   "cell_type": "markdown",
   "metadata": {},
   "source": [
    "# array indexing"
   ]
  },
  {
   "cell_type": "code",
   "execution_count": 25,
   "metadata": {},
   "outputs": [
    {
     "name": "stdout",
     "output_type": "stream",
     "text": [
      "[1 4 5]\n",
      "[1 4 5]\n",
      "[2 2]\n",
      "[2 2]\n"
     ]
    }
   ],
   "source": [
    "#to remove above problem another type of indexing ..integer array indexing\n",
    "import numpy as np\n",
    "\n",
    "a = np.array([[1,2], [3, 4], [5, 6]])\n",
    "\n",
    "# An example of integer array indexing.\n",
    "# The returned array will have shape (3,) and\n",
    "print(a[[0, 1, 2], [0, 1, 0]])  # Prints \"[1 4 5]\"\n",
    "\n",
    "# The above example of integer array indexing is equivalent to this:\n",
    "print(np.array([a[0, 0], a[1, 1], a[2, 0]]))  # Prints \"[1 4 5]\"\n",
    "\n",
    "# When using integer array indexing, you can reuse the same\n",
    "# element from the source array:\n",
    "print(a[[0, 0], [1, 1]])  # Prints \"[2 2]\"\n",
    "\n",
    "# Equivalent to the previous integer array indexing example\n",
    "print(np.array([a[0, 1], a[0, 1]]))  # Prints \"[2 2]\""
   ]
  },
  {
   "cell_type": "code",
   "execution_count": 26,
   "metadata": {},
   "outputs": [
    {
     "name": "stdout",
     "output_type": "stream",
     "text": [
      "[[False False]\n",
      " [ True  True]\n",
      " [ True  True]]\n",
      "[3. 4. 5. 6.]\n",
      "[3. 4. 5. 6.]\n"
     ]
    }
   ],
   "source": [
    "#boolean indexing\n",
    "import numpy as np\n",
    "\n",
    "a = np.array([[1,2], [3, 4], [5, 6]],dtype=float) #second argument we can add data types\n",
    "\n",
    "bool_idx = (a > 2)  \n",
    "print(bool_idx)\n",
    "print(a[bool_idx])  # Prints \"[3 4 5 6]\"\n",
    "\n",
    "# We can do all of the above in a single concise statement:\n",
    "print(a[a > 2])     # Prints \"[3 4 5 6]\""
   ]
  },
  {
   "cell_type": "code",
   "execution_count": 27,
   "metadata": {},
   "outputs": [],
   "source": [
    "#addition of two matrix #np.add(x,y) #np.substract(x,y) #np.multiply(x,y) #division too !!!!!!!!!!!\n",
    "#matrix multiplication ??     np.dot(x,y) or #x.dot(y)\n",
    "#transpose of a marix ??      array_name.T "
   ]
  },
  {
   "cell_type": "markdown",
   "metadata": {},
   "source": [
    "# array creation,varoius ways"
   ]
  },
  {
   "cell_type": "code",
   "execution_count": 28,
   "metadata": {},
   "outputs": [
    {
     "name": "stdout",
     "output_type": "stream",
     "text": [
      "[0 0 0 0 0 0 0 0 0 0]\n",
      "[[1 1 1 1 1]\n",
      " [1 1 1 1 1]\n",
      " [1 1 1 1 1]]\n",
      "[[3 3 3 3 3]\n",
      " [3 3 3 3 3]\n",
      " [3 3 3 3 3]]\n",
      "[ 0  2  4  6  8 10 12 14 16 18]\n",
      "[[0.7597763  0.74674996 0.29676172]\n",
      " [0.74594009 0.56068902 0.47294521]\n",
      " [0.33752398 0.83135358 0.09757621]]\n",
      "[[-0.18899463 -2.55792792 -1.11243734]\n",
      " [ 1.70765898  0.5415824  -0.49226984]\n",
      " [ 1.79285825  0.01076968  1.65018082]]\n",
      "[[3 5 2]\n",
      " [2 3 0]\n",
      " [2 2 4]]\n",
      "[[1. 0. 0.]\n",
      " [0. 1. 0.]\n",
      " [0. 0. 1.]]\n"
     ]
    },
    {
     "data": {
      "text/plain": [
       "array([1., 1., 1.])"
      ]
     },
     "execution_count": 28,
     "metadata": {},
     "output_type": "execute_result"
    }
   ],
   "source": [
    "#CREATING LONG ARRAYS\n",
    "#A 15 LENGTH INTEGER ARRAY FILLED WITH ZERO\n",
    "a=np.zeros(10,dtype=int)\n",
    "print(a)\n",
    "b=np.ones((3,5),dtype=int) #3*5 matrix filled with 1\n",
    "print(b)\n",
    "c=np.full((3,5),3,dtype=int) #3*5 matrix filled with 3\n",
    "print(c)\n",
    "#create AN array filled 0,2,4....upto 20\n",
    "d=np.arange(0,20,2)\n",
    "print(d)\n",
    "##ceate 3*3 array of random values\n",
    "e=np.random.random((3,3)) #double braces\n",
    "print(e)\n",
    "#create 3*3 array of mean 1 and standard deviation 2\n",
    "f=np.random.normal(1,2,(3,3))\n",
    "print(f)\n",
    "#create 3,3 integer array in the interval 0,10\n",
    "g=np.random.randint(0,10,(3,3))\n",
    "print(g)\n",
    "#identity matrix\n",
    "h=np.eye(3)\n",
    "print(h)\n",
    "#creating empty \n",
    "np.empty(3)   #good practice to create empty list"
   ]
  },
  {
   "cell_type": "markdown",
   "metadata": {},
   "source": [
    "# concatenation of array"
   ]
  },
  {
   "cell_type": "code",
   "execution_count": 29,
   "metadata": {},
   "outputs": [
    {
     "name": "stdout",
     "output_type": "stream",
     "text": [
      "1\n"
     ]
    },
    {
     "data": {
      "text/plain": [
       "array([1, 2, 3, 4, 5, 6])"
      ]
     },
     "execution_count": 29,
     "metadata": {},
     "output_type": "execute_result"
    }
   ],
   "source": [
    "x=np.array([1,2,3])\n",
    "print(x.ndim)\n",
    "y=np.array([4,5,6])\n",
    "np.concatenate([x,y]) #can do for more than two arrays\n",
    " "
   ]
  },
  {
   "cell_type": "code",
   "execution_count": 30,
   "metadata": {},
   "outputs": [
    {
     "name": "stdout",
     "output_type": "stream",
     "text": [
      "[[4 5 6]\n",
      " [1 2 3]]\n",
      "[1 2 3 4 5 6]\n"
     ]
    }
   ],
   "source": [
    "print(np.vstack([y,x]))\n",
    "print(np.hstack([x,y]))"
   ]
  },
  {
   "cell_type": "code",
   "execution_count": 31,
   "metadata": {},
   "outputs": [
    {
     "name": "stdout",
     "output_type": "stream",
     "text": [
      "[[ 1  2  3  4  6  7]\n",
      " [ 4  5  6  9 10 11]]\n",
      "[[ 1  2  3]\n",
      " [ 4  5  6]\n",
      " [ 4  6  7]\n",
      " [ 9 10 11]]\n",
      "[[ 1  2  3]\n",
      " [ 4  5  6]\n",
      " [ 4  6  7]\n",
      " [ 9 10 11]]\n"
     ]
    }
   ],
   "source": [
    "grid = np.array([[1, 2, 3],[4, 5, 6]])\n",
    "grid1=np.array([[4,6,7],[9,10,11]])\n",
    "print(np.concatenate([grid,grid1],axis=1)) #no. of rows remain same\n",
    "print(np.concatenate([grid,grid1],axis=0)) #no. of column remains same\n",
    "print(np.vstack([grid,grid1])) #vstack is similiar to concatenation along axis=0 #hstack is similiar to axis along 1"
   ]
  },
  {
   "cell_type": "markdown",
   "metadata": {},
   "source": [
    "# splitting of arrays "
   ]
  },
  {
   "cell_type": "code",
   "execution_count": 32,
   "metadata": {},
   "outputs": [
    {
     "name": "stdout",
     "output_type": "stream",
     "text": [
      "[1 2 3] [4 5] [6 7 8]\n"
     ]
    }
   ],
   "source": [
    "x=[1,2,3,4,5,6,7,8] \n",
    "x1,x2,x3=np.split(x,[3,5]) #3 and 5 are splitting point ,,index of x\n",
    "print(x1,x2,x3)"
   ]
  },
  {
   "cell_type": "markdown",
   "metadata": {},
   "source": [
    "# computation through vectorisation and numpy ufuncs"
   ]
  },
  {
   "cell_type": "code",
   "execution_count": 33,
   "metadata": {},
   "outputs": [
    {
     "name": "stdout",
     "output_type": "stream",
     "text": [
      "[-0.5         0.33333333  0.25        0.2       ]\n",
      "square of array is [ 4  9 16 25].\n",
      "[ -36 -256 -324 -400]\n",
      "[2 3 4 5]\n"
     ]
    }
   ],
   "source": [
    "x=np.array([-2,3,4,5]) \n",
    "print(1/x)\n",
    "print(f\"square of array is {x**2}.\")\n",
    "print(-(2*(x+5))**2) #whatever arithmetic operation you can used!!!!   cool\n",
    "#although these arithmatic operation have numby built in function\n",
    "print(np.abs(x)) #absolute value,also work if complex no, are there"
   ]
  },
  {
   "cell_type": "code",
   "execution_count": 34,
   "metadata": {},
   "outputs": [
    {
     "name": "stdout",
     "output_type": "stream",
     "text": [
      "3.141592653589793\n",
      "1.2246467991473532e-16\n"
     ]
    }
   ],
   "source": [
    "print(np.pi) #accessing value of pi\n",
    "print(np.sin(np.pi)) #similarly sin,cos,tan also there"
   ]
  },
  {
   "cell_type": "markdown",
   "metadata": {},
   "source": [
    "# rules of broadcasting"
   ]
  },
  {
   "cell_type": "raw",
   "metadata": {},
   "source": [
    "• Rule 1: If the two arrays differ in their number of dimensions, the shape of the one with fewer dimensions is padded with ones on its leading (left) side. \n",
    "• Rule 2: If the shape of the two arrays does not match in any dimension, the array with shape equal to 1 in that dimension is stretched to match the other shape. \n",
    "• Rule 3: If in any dimension the sizes disagree and neither is equal to 1, an error is raised.\n",
    "a.shape(3,2) b.shape(3,3) a+b will give error due to 3rd rule...one shapenot matched,neither 1"
   ]
  },
  {
   "cell_type": "code",
   "execution_count": null,
   "metadata": {},
   "outputs": [],
   "source": []
  }
 ],
 "metadata": {
  "kernelspec": {
   "display_name": "Python 3",
   "language": "python",
   "name": "python3"
  },
  "language_info": {
   "codemirror_mode": {
    "name": "ipython",
    "version": 3
   },
   "file_extension": ".py",
   "mimetype": "text/x-python",
   "name": "python",
   "nbconvert_exporter": "python",
   "pygments_lexer": "ipython3",
   "version": "3.6.5"
  }
 },
 "nbformat": 4,
 "nbformat_minor": 2
}
